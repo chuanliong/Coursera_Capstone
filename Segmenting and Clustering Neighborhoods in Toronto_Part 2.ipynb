{
    "cells": [
        {
            "cell_type": "markdown",
            "metadata": {
                "collapsed": true
            },
            "source": "# Segmenting and Clustering Neighborhoods in Toronto"
        },
        {
            "cell_type": "code",
            "execution_count": 1,
            "metadata": {},
            "outputs": [],
            "source": "import numpy as np\nimport pandas as pd\nimport matplotlib.pyplot as plt\nimport json, lxml\nfrom geopy.geocoders import Nominatim # convert an address into latitude and longitude values\nimport requests # library to handle requests\nfrom pandas.io.json import json_normalize # tranform JSON file into a pandas dataframe\n# Matplotlib and associated plotting modules\nimport matplotlib.cm as cm\nimport matplotlib.colors as colors\n# import k-means from clustering stage\nfrom sklearn.cluster import KMeans\n# import folium # map rendering library\nfrom bs4 import BeautifulSoup\nimport warnings\nwarnings.filterwarnings('ignore')"
        },
        {
            "cell_type": "code",
            "execution_count": 2,
            "metadata": {},
            "outputs": [],
            "source": "try:\n    import folium\nexcept:\n    !pip install folium\n    import folium"
        },
        {
            "cell_type": "markdown",
            "metadata": {},
            "source": "## Part 1: Reading data"
        },
        {
            "cell_type": "code",
            "execution_count": 3,
            "metadata": {},
            "outputs": [
                {
                    "name": "stdout",
                    "output_type": "stream",
                    "text": "(180, 3)\n"
                },
                {
                    "data": {
                        "text/html": "<div>\n<style scoped>\n    .dataframe tbody tr th:only-of-type {\n        vertical-align: middle;\n    }\n\n    .dataframe tbody tr th {\n        vertical-align: top;\n    }\n\n    .dataframe thead th {\n        text-align: right;\n    }\n</style>\n<table border=\"1\" class=\"dataframe\">\n  <thead>\n    <tr style=\"text-align: right;\">\n      <th></th>\n      <th>PostalCode</th>\n      <th>Borough</th>\n      <th>Neighbourhood</th>\n    </tr>\n  </thead>\n  <tbody>\n    <tr>\n      <th>0</th>\n      <td>M1A</td>\n      <td>Not assigned</td>\n      <td>Not assigned</td>\n    </tr>\n    <tr>\n      <th>1</th>\n      <td>M2A</td>\n      <td>Not assigned</td>\n      <td>Not assigned</td>\n    </tr>\n    <tr>\n      <th>2</th>\n      <td>M3A</td>\n      <td>North York</td>\n      <td>Parkwoods</td>\n    </tr>\n    <tr>\n      <th>3</th>\n      <td>M4A</td>\n      <td>North York</td>\n      <td>Victoria Village</td>\n    </tr>\n    <tr>\n      <th>4</th>\n      <td>M5A</td>\n      <td>Downtown Toronto</td>\n      <td>Regent Park, Harbourfront</td>\n    </tr>\n  </tbody>\n</table>\n</div>",
                        "text/plain": "  PostalCode           Borough              Neighbourhood\n0        M1A      Not assigned               Not assigned\n1        M2A      Not assigned               Not assigned\n2        M3A        North York                  Parkwoods\n3        M4A        North York           Victoria Village\n4        M5A  Downtown Toronto  Regent Park, Harbourfront"
                    },
                    "execution_count": 3,
                    "metadata": {},
                    "output_type": "execute_result"
                }
            ],
            "source": "url = 'https://en.wikipedia.org/wiki/List_of_postal_codes_of_Canada:_M'\nsource = requests.get(url).text\nsoup = BeautifulSoup(source)\n\ntable_data = soup.find('div', class_='mw-parser-output')\ntable = table_data.table.tbody\n\ncolumns = ['PostalCode', 'Borough', 'Neighbourhood']\ndata = dict({key:[]*len(columns) for key in columns})\n\nfor row in table.find_all('tr'):\n    for i,column in zip(row.find_all('td'),columns):\n        i = i.text\n        i = i.replace('\\n', '')\n        data[column].append(i)\n\ndf = pd.DataFrame.from_dict(data=data)[columns]\nprint(df.shape)\ndf.head()"
        },
        {
            "cell_type": "code",
            "execution_count": 4,
            "metadata": {},
            "outputs": [
                {
                    "name": "stdout",
                    "output_type": "stream",
                    "text": "After dropping rows where borough is \"Not assigned\", Shape is:  (103, 3)\nNumber of rows where Neighbourhood is \"Not assigned\" but borough has value:  0\n"
                }
            ],
            "source": "# Data contains some rows where value are not assigned\n# Dropping the row ehere Borough is not assigned\ndf = df[df['Borough'] != 'Not assigned'].reset_index(drop = True)\nprint('After dropping rows where borough is \"Not assigned\", Shape is: ',df.shape)\nprint('Number of rows where Neighbourhood is \"Not assigned\" but borough has value: ', \n      df[df['Neighbourhood'] == 'Not assigned'].shape[0])"
        },
        {
            "cell_type": "code",
            "execution_count": 5,
            "metadata": {},
            "outputs": [
                {
                    "name": "stdout",
                    "output_type": "stream",
                    "text": "(103, 3)\n"
                },
                {
                    "data": {
                        "text/html": "<div>\n<style scoped>\n    .dataframe tbody tr th:only-of-type {\n        vertical-align: middle;\n    }\n\n    .dataframe tbody tr th {\n        vertical-align: top;\n    }\n\n    .dataframe thead th {\n        text-align: right;\n    }\n</style>\n<table border=\"1\" class=\"dataframe\">\n  <thead>\n    <tr style=\"text-align: right;\">\n      <th></th>\n      <th>PostalCode</th>\n      <th>Borough</th>\n      <th>Neighbourhood</th>\n    </tr>\n  </thead>\n  <tbody>\n    <tr>\n      <th>0</th>\n      <td>M3A</td>\n      <td>North York</td>\n      <td>Parkwoods</td>\n    </tr>\n    <tr>\n      <th>1</th>\n      <td>M4A</td>\n      <td>North York</td>\n      <td>Victoria Village</td>\n    </tr>\n    <tr>\n      <th>2</th>\n      <td>M5A</td>\n      <td>Downtown Toronto</td>\n      <td>Regent Park, Harbourfront</td>\n    </tr>\n    <tr>\n      <th>3</th>\n      <td>M6A</td>\n      <td>North York</td>\n      <td>Lawrence Manor, Lawrence Heights</td>\n    </tr>\n    <tr>\n      <th>4</th>\n      <td>M7A</td>\n      <td>Downtown Toronto</td>\n      <td>Queen's Park, Ontario Provincial Government</td>\n    </tr>\n  </tbody>\n</table>\n</div>",
                        "text/plain": "  PostalCode           Borough                                Neighbourhood\n0        M3A        North York                                    Parkwoods\n1        M4A        North York                             Victoria Village\n2        M5A  Downtown Toronto                    Regent Park, Harbourfront\n3        M6A        North York             Lawrence Manor, Lawrence Heights\n4        M7A  Downtown Toronto  Queen's Park, Ontario Provincial Government"
                    },
                    "execution_count": 5,
                    "metadata": {},
                    "output_type": "execute_result"
                }
            ],
            "source": "\np, b, n = [], [], []\nfor postcode, borough, neigh in zip(df['PostalCode'], df['Borough'], df['Neighbourhood']):\n    p.append(postcode)\n    b.append(borough)\n    if neigh == 'Not assigned':\n        n.append(borough)\n    else:\n        n.append(neigh)\n\ndf = pd.DataFrame({'PostalCode': p, 'Borough': b, 'Neighbourhood':n})[columns]\nprint(df.shape)\ndf.head()"
        },
        {
            "cell_type": "markdown",
            "metadata": {},
            "source": "### Merging the rows"
        },
        {
            "cell_type": "code",
            "execution_count": 6,
            "metadata": {},
            "outputs": [
                {
                    "name": "stdout",
                    "output_type": "stream",
                    "text": "Number of keys in the dictionary are:  103\nShape of final data is:  (103, 3)\n"
                },
                {
                    "data": {
                        "text/html": "<div>\n<style scoped>\n    .dataframe tbody tr th:only-of-type {\n        vertical-align: middle;\n    }\n\n    .dataframe tbody tr th {\n        vertical-align: top;\n    }\n\n    .dataframe thead th {\n        text-align: right;\n    }\n</style>\n<table border=\"1\" class=\"dataframe\">\n  <thead>\n    <tr style=\"text-align: right;\">\n      <th></th>\n      <th>Postal Code</th>\n      <th>Borough</th>\n      <th>Neighbourhood</th>\n    </tr>\n  </thead>\n  <tbody>\n    <tr>\n      <th>0</th>\n      <td>M3A</td>\n      <td>North York</td>\n      <td>Parkwoods</td>\n    </tr>\n    <tr>\n      <th>1</th>\n      <td>M4A</td>\n      <td>North York</td>\n      <td>Victoria Village</td>\n    </tr>\n    <tr>\n      <th>2</th>\n      <td>M5A</td>\n      <td>Downtown Toronto</td>\n      <td>Regent Park, Harbourfront</td>\n    </tr>\n    <tr>\n      <th>3</th>\n      <td>M6A</td>\n      <td>North York</td>\n      <td>Lawrence Manor, Lawrence Heights</td>\n    </tr>\n    <tr>\n      <th>4</th>\n      <td>M7A</td>\n      <td>Downtown Toronto</td>\n      <td>Queen's Park, Ontario Provincial Government</td>\n    </tr>\n    <tr>\n      <th>5</th>\n      <td>M9A</td>\n      <td>Etobicoke</td>\n      <td>Islington Avenue, Humber Valley Village</td>\n    </tr>\n    <tr>\n      <th>6</th>\n      <td>M1B</td>\n      <td>Scarborough</td>\n      <td>Malvern, Rouge</td>\n    </tr>\n    <tr>\n      <th>7</th>\n      <td>M3B</td>\n      <td>North York</td>\n      <td>Don Mills</td>\n    </tr>\n    <tr>\n      <th>8</th>\n      <td>M4B</td>\n      <td>East York</td>\n      <td>Parkview Hill, Woodbine Gardens</td>\n    </tr>\n    <tr>\n      <th>9</th>\n      <td>M5B</td>\n      <td>Downtown Toronto</td>\n      <td>Garden District, Ryerson</td>\n    </tr>\n  </tbody>\n</table>\n</div>",
                        "text/plain": "  Postal Code           Borough                                Neighbourhood\n0         M3A        North York                                    Parkwoods\n1         M4A        North York                             Victoria Village\n2         M5A  Downtown Toronto                    Regent Park, Harbourfront\n3         M6A        North York             Lawrence Manor, Lawrence Heights\n4         M7A  Downtown Toronto  Queen's Park, Ontario Provincial Government\n5         M9A         Etobicoke      Islington Avenue, Humber Valley Village\n6         M1B       Scarborough                               Malvern, Rouge\n7         M3B        North York                                    Don Mills\n8         M4B         East York              Parkview Hill, Woodbine Gardens\n9         M5B  Downtown Toronto                     Garden District, Ryerson"
                    },
                    "execution_count": 6,
                    "metadata": {},
                    "output_type": "execute_result"
                }
            ],
            "source": "postcodes = df['PostalCode'].values\nboroughs = df['Borough'].values\nneighs = df['Neighbourhood'].values\n\n#create a dictionary with keys as Postcode and Borough, keys of dictioaries are unique\ndic = dict({(key1,key2): [] for key1, key2 in zip(postcodes, boroughs)})\nprint('Number of keys in the dictionary are: ', len(dic.keys()))\n\n#filling the values of keys of dictionary\nfor postcode, borough, neigh in zip(postcodes,boroughs, neighs):\n    key = (postcode, borough)\n    dic[key].append(neigh)\n\ndf = pd.DataFrame(columns = ['Postal Code', 'Borough', 'Neighbourhood'])\nfor key, value in dic.items():\n    postcode, borough, neig = key[0], key[1], value\n    neig = ', '.join(neig)\n    df = df.append({'Postal Code': postcode,\n                     'Borough': borough,\n                     'Neighbourhood': neig}, ignore_index = True)\nprint('Shape of final data is: ', df.shape)\ndf.head(10)"
        },
        {
            "cell_type": "markdown",
            "metadata": {},
            "source": "## Part 2:  Getting the Latitude and Longtitude of each postal code"
        },
        {
            "cell_type": "code",
            "execution_count": 7,
            "metadata": {},
            "outputs": [
                {
                    "name": "stdout",
                    "output_type": "stream",
                    "text": "--2020-11-21 15:54:43--  http://cocl.us/Geospatial_data\nResolving cocl.us (cocl.us)... 169.63.96.194, 169.63.96.176\nConnecting to cocl.us (cocl.us)|169.63.96.194|:80... connected.\nHTTP request sent, awaiting response... 301 Moved Permanently\nLocation: https://cocl.us/Geospatial_data [following]\n--2020-11-21 15:54:43--  https://cocl.us/Geospatial_data\nConnecting to cocl.us (cocl.us)|169.63.96.194|:443... connected.\nHTTP request sent, awaiting response... 301 Moved Permanently\nLocation: https://ibm.box.com/shared/static/9afzr83pps4pwf2smjjcf1y5mvgb18rr.csv [following]\n--2020-11-21 15:54:44--  https://ibm.box.com/shared/static/9afzr83pps4pwf2smjjcf1y5mvgb18rr.csv\nResolving ibm.box.com (ibm.box.com)... 107.152.29.197\nConnecting to ibm.box.com (ibm.box.com)|107.152.29.197|:443... connected.\nHTTP request sent, awaiting response... 301 Moved Permanently\nLocation: /public/static/9afzr83pps4pwf2smjjcf1y5mvgb18rr.csv [following]\n--2020-11-21 15:54:44--  https://ibm.box.com/public/static/9afzr83pps4pwf2smjjcf1y5mvgb18rr.csv\nReusing existing connection to ibm.box.com:443.\nHTTP request sent, awaiting response... 301 Moved Permanently\nLocation: https://ibm.ent.box.com/public/static/9afzr83pps4pwf2smjjcf1y5mvgb18rr.csv [following]\n--2020-11-21 15:54:45--  https://ibm.ent.box.com/public/static/9afzr83pps4pwf2smjjcf1y5mvgb18rr.csv\nResolving ibm.ent.box.com (ibm.ent.box.com)... 107.152.29.201\nConnecting to ibm.ent.box.com (ibm.ent.box.com)|107.152.29.201|:443... connected.\nHTTP request sent, awaiting response... 302 Found\nLocation: https://public.boxcloud.com/d/1/b1!xBmwbzyLxKFcKRV2G7rYtbtvKoyqEZQTaMQbLiYlZfcwb9FOtcaEnHkeCMMZRZqYvz9AvDFEKqoVwciCt8aimj8h-bxYAhtOocOtCg_xxNFifnjCS44yjw-vx7JsLbB6eZurlaQ8cMMMamKwDzilqYRn70_rDmlA_WTsJJxH4jIZd04Yw4w4iwDLMPe-_ETyf5JSLMeTB1ulmyGCiGo_sVtrJ_GSGORrPQwu98DUnruhXGBwCm_rsgg-wO7dwRQD-42_TjRiwSsR3A7GUHApk4n--2TV_hWRAKaly74YRk5UAYaHaxOf3VJ9gPNE6AvQZhq7of_CXI9ofiGLgOB0txkA7T_lRXNI5zBPZg-nmJU1sXQs77Vmsrx5eAMJlkshDfU0D2OoQxAPBmhKgWGb2dl_NQIrwZ2HpawuRnUVrcAP6hbprhX6-4CVrjgLO4JtgIfib0D69dcUlgy-91eCe3f5IHbPLIf5Sd2-G4pWrGQjwq4Lmbmd6mEyErv4PpJURADO_U6Yl94hSR7vA2lPLTzBusSTtLo6ZrHedkm42KzVJNIAPR2dvGXJZCc9h8TTg2jSNFbqgkZs4V3jeDVhl6jn_YAaHOaNxkXcpXenXcHnqEJslHjMcYPBtkiipGWsb5oYTRUCb2blVnLMbvjsgsW4el1vvrWLyRM_bfpBn3R3_0W8Db-Xdy8XLuwj-bXNSLwXQGnXYMsN2JuTcAdDoi5yv1DJl3fNYQvvlHRnv7WAOITZcpWZnZ4eg74CR_hqSyFY-D0hHTD-t4-bFc-txNgYBJ1eh56pdDJhvh51gfZag4UT3qjBTVVmLr4UX4h1mjTxAySu0OkGthPmFHRod9iM5bW_91j7Y6dbKvQcJJuGvBanUqkzGkyBK4_CR-rLxcdNaozyI2knjdnQqnxjCVmEzrgp7jRAgXX5aRL5GuJBEREzOuM1sduuBciPc2UxyrUEs5F7vzTGwzNLrHQAUo-T8EgSuAUhdSyVrQuaIkg-BAX97GIzSLX7mD71IhgbiquODxa_enKVW8j8M_CTHBgWDK9AxKp5PLfTFoHS14fDi3IQC-oUcm9Q69cw_VEqgDMyZxeRWe30ij5h9qapUkHQDfhWjEjXifSfkhYLslYdUO9l1N_MHBhtriCPJsHJ5GOsZZ9vdkWMQqYtrnKOMqivPsk68LPIcd_JfoGDErACsZh_JvKF0d9XCEiEM6fBn2V2iosTyrojcS1-o-1-ofK69pE0QI4y44QuapZLcgcE1XbbYeTRBoNIYicStTKiUHVeLVIMGMmC0g8awPlx6779q7zHW9RSnWs-SZiSAENWiphvbSYn51Aed0kq3kPVL_-pD4QwKcETmb-3xaGYm055r3_Psr2OPsVF7_oYkjaftHOhaAQvn94ZPy_Mzv5vobdKT9gXUBBhFhhl4OdGr7cAcnGUtBaJ_FGMOUHeXX1SbQKu1Ihop8rP2_Ee3SIJMBOA3kZTIqNcZ-Y./download [following]\n--2020-11-21 15:54:45--  https://public.boxcloud.com/d/1/b1!xBmwbzyLxKFcKRV2G7rYtbtvKoyqEZQTaMQbLiYlZfcwb9FOtcaEnHkeCMMZRZqYvz9AvDFEKqoVwciCt8aimj8h-bxYAhtOocOtCg_xxNFifnjCS44yjw-vx7JsLbB6eZurlaQ8cMMMamKwDzilqYRn70_rDmlA_WTsJJxH4jIZd04Yw4w4iwDLMPe-_ETyf5JSLMeTB1ulmyGCiGo_sVtrJ_GSGORrPQwu98DUnruhXGBwCm_rsgg-wO7dwRQD-42_TjRiwSsR3A7GUHApk4n--2TV_hWRAKaly74YRk5UAYaHaxOf3VJ9gPNE6AvQZhq7of_CXI9ofiGLgOB0txkA7T_lRXNI5zBPZg-nmJU1sXQs77Vmsrx5eAMJlkshDfU0D2OoQxAPBmhKgWGb2dl_NQIrwZ2HpawuRnUVrcAP6hbprhX6-4CVrjgLO4JtgIfib0D69dcUlgy-91eCe3f5IHbPLIf5Sd2-G4pWrGQjwq4Lmbmd6mEyErv4PpJURADO_U6Yl94hSR7vA2lPLTzBusSTtLo6ZrHedkm42KzVJNIAPR2dvGXJZCc9h8TTg2jSNFbqgkZs4V3jeDVhl6jn_YAaHOaNxkXcpXenXcHnqEJslHjMcYPBtkiipGWsb5oYTRUCb2blVnLMbvjsgsW4el1vvrWLyRM_bfpBn3R3_0W8Db-Xdy8XLuwj-bXNSLwXQGnXYMsN2JuTcAdDoi5yv1DJl3fNYQvvlHRnv7WAOITZcpWZnZ4eg74CR_hqSyFY-D0hHTD-t4-bFc-txNgYBJ1eh56pdDJhvh51gfZag4UT3qjBTVVmLr4UX4h1mjTxAySu0OkGthPmFHRod9iM5bW_91j7Y6dbKvQcJJuGvBanUqkzGkyBK4_CR-rLxcdNaozyI2knjdnQqnxjCVmEzrgp7jRAgXX5aRL5GuJBEREzOuM1sduuBciPc2UxyrUEs5F7vzTGwzNLrHQAUo-T8EgSuAUhdSyVrQuaIkg-BAX97GIzSLX7mD71IhgbiquODxa_enKVW8j8M_CTHBgWDK9AxKp5PLfTFoHS14fDi3IQC-oUcm9Q69cw_VEqgDMyZxeRWe30ij5h9qapUkHQDfhWjEjXifSfkhYLslYdUO9l1N_MHBhtriCPJsHJ5GOsZZ9vdkWMQqYtrnKOMqivPsk68LPIcd_JfoGDErACsZh_JvKF0d9XCEiEM6fBn2V2iosTyrojcS1-o-1-ofK69pE0QI4y44QuapZLcgcE1XbbYeTRBoNIYicStTKiUHVeLVIMGMmC0g8awPlx6779q7zHW9RSnWs-SZiSAENWiphvbSYn51Aed0kq3kPVL_-pD4QwKcETmb-3xaGYm055r3_Psr2OPsVF7_oYkjaftHOhaAQvn94ZPy_Mzv5vobdKT9gXUBBhFhhl4OdGr7cAcnGUtBaJ_FGMOUHeXX1SbQKu1Ihop8rP2_Ee3SIJMBOA3kZTIqNcZ-Y./download\nResolving public.boxcloud.com (public.boxcloud.com)... 107.152.29.200\nConnecting to public.boxcloud.com (public.boxcloud.com)|107.152.29.200|:443... connected.\nHTTP request sent, awaiting response... 200 OK\nLength: 2891 (2.8K) [text/csv]\nSaving to: \u2018Geospatial_data\u2019\n\nGeospatial_data     100%[===================>]   2.82K  --.-KB/s    in 0s      \n\n2020-11-21 15:54:46 (38.8 MB/s) - \u2018Geospatial_data\u2019 saved [2891/2891]\n\n(103, 5)\n"
                },
                {
                    "data": {
                        "text/html": "<div>\n<style scoped>\n    .dataframe tbody tr th:only-of-type {\n        vertical-align: middle;\n    }\n\n    .dataframe tbody tr th {\n        vertical-align: top;\n    }\n\n    .dataframe thead th {\n        text-align: right;\n    }\n</style>\n<table border=\"1\" class=\"dataframe\">\n  <thead>\n    <tr style=\"text-align: right;\">\n      <th></th>\n      <th>Postal Code</th>\n      <th>Borough</th>\n      <th>Neighbourhood</th>\n      <th>Latitude</th>\n      <th>Longitude</th>\n    </tr>\n  </thead>\n  <tbody>\n    <tr>\n      <th>0</th>\n      <td>M3A</td>\n      <td>North York</td>\n      <td>Parkwoods</td>\n      <td>43.753259</td>\n      <td>-79.329656</td>\n    </tr>\n    <tr>\n      <th>1</th>\n      <td>M4A</td>\n      <td>North York</td>\n      <td>Victoria Village</td>\n      <td>43.725882</td>\n      <td>-79.315572</td>\n    </tr>\n    <tr>\n      <th>2</th>\n      <td>M5A</td>\n      <td>Downtown Toronto</td>\n      <td>Regent Park, Harbourfront</td>\n      <td>43.654260</td>\n      <td>-79.360636</td>\n    </tr>\n    <tr>\n      <th>3</th>\n      <td>M6A</td>\n      <td>North York</td>\n      <td>Lawrence Manor, Lawrence Heights</td>\n      <td>43.718518</td>\n      <td>-79.464763</td>\n    </tr>\n    <tr>\n      <th>4</th>\n      <td>M7A</td>\n      <td>Downtown Toronto</td>\n      <td>Queen's Park, Ontario Provincial Government</td>\n      <td>43.662301</td>\n      <td>-79.389494</td>\n    </tr>\n    <tr>\n      <th>5</th>\n      <td>M9A</td>\n      <td>Etobicoke</td>\n      <td>Islington Avenue, Humber Valley Village</td>\n      <td>43.667856</td>\n      <td>-79.532242</td>\n    </tr>\n    <tr>\n      <th>6</th>\n      <td>M1B</td>\n      <td>Scarborough</td>\n      <td>Malvern, Rouge</td>\n      <td>43.806686</td>\n      <td>-79.194353</td>\n    </tr>\n    <tr>\n      <th>7</th>\n      <td>M3B</td>\n      <td>North York</td>\n      <td>Don Mills</td>\n      <td>43.745906</td>\n      <td>-79.352188</td>\n    </tr>\n    <tr>\n      <th>8</th>\n      <td>M4B</td>\n      <td>East York</td>\n      <td>Parkview Hill, Woodbine Gardens</td>\n      <td>43.706397</td>\n      <td>-79.309937</td>\n    </tr>\n    <tr>\n      <th>9</th>\n      <td>M5B</td>\n      <td>Downtown Toronto</td>\n      <td>Garden District, Ryerson</td>\n      <td>43.657162</td>\n      <td>-79.378937</td>\n    </tr>\n  </tbody>\n</table>\n</div>",
                        "text/plain": "  Postal Code           Borough                                Neighbourhood  \\\n0         M3A        North York                                    Parkwoods   \n1         M4A        North York                             Victoria Village   \n2         M5A  Downtown Toronto                    Regent Park, Harbourfront   \n3         M6A        North York             Lawrence Manor, Lawrence Heights   \n4         M7A  Downtown Toronto  Queen's Park, Ontario Provincial Government   \n5         M9A         Etobicoke      Islington Avenue, Humber Valley Village   \n6         M1B       Scarborough                               Malvern, Rouge   \n7         M3B        North York                                    Don Mills   \n8         M4B         East York              Parkview Hill, Woodbine Gardens   \n9         M5B  Downtown Toronto                     Garden District, Ryerson   \n\n    Latitude  Longitude  \n0  43.753259 -79.329656  \n1  43.725882 -79.315572  \n2  43.654260 -79.360636  \n3  43.718518 -79.464763  \n4  43.662301 -79.389494  \n5  43.667856 -79.532242  \n6  43.806686 -79.194353  \n7  43.745906 -79.352188  \n8  43.706397 -79.309937  \n9  43.657162 -79.378937  "
                    },
                    "execution_count": 7,
                    "metadata": {},
                    "output_type": "execute_result"
                }
            ],
            "source": "!wget http://cocl.us/Geospatial_data\ntry:\n    df['Latitude'] = lats\n    df['Longitude'] = lons\nexcept:\n    latlon = pd.read_csv('Geospatial_data')\n    df = pd.merge(df, latlon, how= 'inner', on = 'Postal Code')\n    \nprint(df.shape)\ndf.head(10)"
        },
        {
            "cell_type": "code",
            "execution_count": null,
            "metadata": {},
            "outputs": [],
            "source": ""
        },
        {
            "cell_type": "code",
            "execution_count": null,
            "metadata": {},
            "outputs": [],
            "source": ""
        }
    ],
    "metadata": {
        "kernelspec": {
            "display_name": "Python 3.7",
            "language": "python",
            "name": "python3"
        },
        "language_info": {
            "codemirror_mode": {
                "name": "ipython",
                "version": 3
            },
            "file_extension": ".py",
            "mimetype": "text/x-python",
            "name": "python",
            "nbconvert_exporter": "python",
            "pygments_lexer": "ipython3",
            "version": "3.7.9"
        }
    },
    "nbformat": 4,
    "nbformat_minor": 1
}